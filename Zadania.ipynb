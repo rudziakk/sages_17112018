{
 "cells": [
  {
   "cell_type": "markdown",
   "metadata": {},
   "source": [
    "# Zadanie rozgrzewkowe\n",
    "* Stworz słownik opisujący poprzedzające dni: temperatura, wilgotność,\n",
    "* Na podstawie słownika stwórz DataFrame"
   ]
  },
  {
   "cell_type": "markdown",
   "metadata": {},
   "source": [
    "# Zadanie rozgrzwkowe 2\n",
    "* Wygeneruj DataFrame z losowymi wartościami wagi oraz wzrostu, przyjmijmy że zasilamy rozkładem normalnym - 250 wartości\n",
    "    * Wzrost ma wartośc oczekiwaną 168 cm a odchylenie standardowe 6 cm\n",
    "    * Waga ma wartość oczekiwaną 60 kg a odchylenie standardowe 1.5 kg\n",
    "* Dodaj kolumnę liczącą BMI,\n",
    "* Wyniki posortuj - po BMI malejąco,\n",
    "* Zapisz top 3 do osobnej zmiennej,\n",
    "* \n",
    "* __**Dla chetnych**__ Dodaj kolumny z imieniem i nazwiskiem - Losowane (Mimo rodo) np. Faker ?"
   ]
  },
  {
   "cell_type": "markdown",
   "metadata": {},
   "source": [
    "# Zadanie 0\n",
    "* Sciągnij i rozpakuj plik ze [strony](https://www.ecb.europa.eu/stats/policy_and_exchange_rates/euro_reference_exchange_rates/html/index.en.html) europejskiego banku centralnego\n",
    "* Sprawdz po imporcie jaki masz typ danych,\n",
    "* Sprawdz jakie masz kolumny, ile jest kolumn ?,\n",
    "* Wyswietle 3 pierwsze wiersze,\n",
    "* Wyswietl 5 ostatnich wierszy,\n",
    "* Wyświetl medianę oraz średnią dla dolara ( 3 możliwości dostępu do kolumny),\n",
    "* Wyświetl średnią jednocześnie dla Dolara, Złotego i Hrywny\n",
    "* Stwórz tabelę ze średnimi kursami Dolara, Złotego i Hrywny"
   ]
  },
  {
   "cell_type": "markdown",
   "metadata": {},
   "source": [
    "# Zadanie 0.1 z loc\n",
    "* Wyświetl pierwszych 200 wpisów, waluty __od__ USD do PLN\n",
    "* Wyświetl pierwszych 200 wpisów, waluty USD oraz PLN"
   ]
  },
  {
   "cell_type": "markdown",
   "metadata": {},
   "source": [
    "# Zadanie 0.2\n",
    "* Ustaw index :)"
   ]
  },
  {
   "cell_type": "markdown",
   "metadata": {},
   "source": [
    "# Zadanie 1\n",
    "* Przypisz do zmiennych dane kursów dla Polski z\n",
    "    * Ostatniego tygodnia,\n",
    "    * Ostatniego miesiąca\n",
    "* Wyświetl wyniki z poprzedniego punktu,\n",
    "* Pobierz dane dla Polski z okresu:\n",
    "    * Grudzień,\n",
    "    * Styczeń,\n",
    "    * Jakieś przemyślenia\n",
    "* Pobierz dane dla Wielkiej Brytanni z __marca__\n",
    "    * Jakieś przemyślenia ?\n",
    "    \n",
    "* __***Dla chętnych__:\n",
    "    * Dodać wypakowanie pliku przy użyciu pythona,\n",
    "    * Dodać histogramy dla ostatniego tygodnia (matplotlib)\n",
    "    * Użyć bibliotek do określanai daty"
   ]
  },
  {
   "cell_type": "markdown",
   "metadata": {},
   "source": [
    "# Zadanie 2\n",
    "* Znaleźć najniższy kurs dla Liry\n",
    "\n"
   ]
  },
  {
   "cell_type": "code",
   "execution_count": 1,
   "metadata": {},
   "outputs": [],
   "source": [
    "# Zagregować dane dla kursu złotówki w okresie:\n"
   ]
  },
  {
   "cell_type": "markdown",
   "metadata": {},
   "source": [
    "# Zadanie 3\n",
    "* Dla zakresu dat 1 sierpnia do 3 października tego roku wyświetl statystyki walut:\n",
    "    * Od USD do PLN"
   ]
  },
  {
   "cell_type": "code",
   "execution_count": null,
   "metadata": {},
   "outputs": [],
   "source": []
  }
 ],
 "metadata": {
  "kernelspec": {
   "display_name": "Python 3",
   "language": "python",
   "name": "python3"
  },
  "language_info": {
   "codemirror_mode": {
    "name": "ipython",
    "version": 3
   },
   "file_extension": ".py",
   "mimetype": "text/x-python",
   "name": "python",
   "nbconvert_exporter": "python",
   "pygments_lexer": "ipython3",
   "version": "3.7.0"
  }
 },
 "nbformat": 4,
 "nbformat_minor": 2
}
